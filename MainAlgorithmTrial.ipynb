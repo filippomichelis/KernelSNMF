{
 "cells": [
  {
   "cell_type": "code",
   "execution_count": 113,
   "metadata": {},
   "outputs": [],
   "source": [
    "from nmf import *\n",
    "from utils import *\n",
    "import numpy as np\n",
    "from projection import project_onto_Sigma\n",
    "from data_generation import generate_separable_data"
   ]
  },
  {
   "cell_type": "code",
   "execution_count": null,
   "metadata": {},
   "outputs": [
    {
     "name": "stdout",
     "output_type": "stream",
     "text": [
      "Iteration 0: ||diag(X)|| = 0.0956\n",
      "Iteration 10: ||diag(X)|| = 0.2801\n",
      "Iteration 20: ||diag(X)|| = 0.4788\n",
      "Iteration 30: ||diag(X)|| = 0.7088\n",
      "Iteration 40: ||diag(X)|| = 0.9020\n",
      "Iteration 50: ||diag(X)|| = 1.0437\n",
      "Iteration 60: ||diag(X)|| = 1.1464\n",
      "Iteration 70: ||diag(X)|| = 1.2230\n",
      "Iteration 80: ||diag(X)|| = 1.2820\n",
      "Iteration 90: ||diag(X)|| = 1.3289\n",
      "Iteration 100: ||diag(X)|| = 1.3670\n",
      "Iteration 110: ||diag(X)|| = 1.3987\n",
      "Iteration 120: ||diag(X)|| = 1.4256\n",
      "Iteration 130: ||diag(X)|| = 1.4486\n",
      "Iteration 140: ||diag(X)|| = 1.4686\n",
      "Iteration 150: ||diag(X)|| = 1.4861\n",
      "Iteration 160: ||diag(X)|| = 1.5017\n",
      "Iteration 170: ||diag(X)|| = 1.5155\n",
      "Iteration 180: ||diag(X)|| = 1.5279\n",
      "Iteration 190: ||diag(X)|| = 1.5391\n",
      "Iteration 200: ||diag(X)|| = 1.5493\n",
      "Iteration 210: ||diag(X)|| = 1.5586\n",
      "Iteration 220: ||diag(X)|| = 1.5671\n",
      "Iteration 230: ||diag(X)|| = 1.5749\n",
      "Iteration 240: ||diag(X)|| = 1.5822\n",
      "Iteration 250: ||diag(X)|| = 1.5888\n",
      "Iteration 260: ||diag(X)|| = 1.5950\n",
      "Iteration 270: ||diag(X)|| = 1.6008\n",
      "Iteration 280: ||diag(X)|| = 1.6062\n",
      "Iteration 290: ||diag(X)|| = 1.6112\n",
      "Iteration 300: ||diag(X)|| = 1.6159\n",
      "Iteration 310: ||diag(X)|| = 1.6203\n"
     ]
    }
   ],
   "source": [
    "# Main algorithm: Kernel Separable NMF\n",
    "# ToDo: integrate in NMF class in nmf.py\n",
    "def kernel_separable_nmf(K, lambda_param=1.0, max_iter=100, r=3, verbose=False):\n",
    "    \"\"\"\n",
    "    Kernel Separable NMF algorithm.\n",
    "    \n",
    "    Parameters:\n",
    "        M           : Input matrix (here, the simulated feature matrix).\n",
    "        K           : Kernel matrix (typically M^T M).\n",
    "        lambda_param: Regularization parameter.\n",
    "        max_iter    : Number of iterations.\n",
    "        r           : Number of columns (indices) to select (expected anchors).\n",
    "        verbose     : If True, prints progress.\n",
    "        \n",
    "    Returns:\n",
    "        X       : The final matrix X after updates.\n",
    "        indices : The indices corresponding to the r largest diagonal entries of X.\n",
    "    \"\"\"\n",
    "    n = K.shape[0]\n",
    "    X = np.random.rand(n, n)\n",
    "    I = np.eye(n)\n",
    "    epsilon = 1e-10\n",
    "    for it in range(max_iter):\n",
    "        KX = K @ X\n",
    "        denom = 2 * lambda_param * KX + epsilon\n",
    "        numerator = 2 * lambda_param * K - I\n",
    "        update_factor = numerator / denom\n",
    "        X = X * update_factor\n",
    "        X = project_onto_Sigma(X)\n",
    "        if verbose and (it % 10 == 0 or it == max_iter - 1):\n",
    "            diag_norm = np.linalg.norm(np.diag(X))\n",
    "            print(\"Iteration {}: ||diag(X)|| = {:.4f}\".format(it, diag_norm))\n",
    "    diag_X = np.diag(X)\n",
    "    indices = np.argsort(diag_X)[-r:][::-1]\n",
    "    return X, indices\n",
    "\n",
    "# ----- Example of usage -----\n",
    "lambda_param = 50 # Higher value for lower sparsity on the diagonal of X\n",
    "max_iter = 1000\n",
    "n_anchors = 3\n",
    "\n",
    "M, anchors_orig, H = generate_separable_data(n_anchors=n_anchors, n_samples=100, dimension=70, seed=2, kernel=None, sparsity_on_H=0)\n",
    "K = np.dot(M.T, M)\n",
    "\n",
    "X_kernel, selected_indices = kernel_separable_nmf(K, lambda_param, max_iter, n_anchors, verbose=True)\n",
    "\n",
    "# ----- Print results -----\n",
    "print(\"\\nKernel matrix K:\")\n",
    "print(K)\n",
    "print(\"\\nFinal X matrix from Kernel Separable NMF:\")\n",
    "print(X_kernel)\n",
    "print(\"\\nIndices selected for factorization (should include the anchors):\")\n",
    "print(selected_indices)"
   ]
  },
  {
   "cell_type": "markdown",
   "metadata": {},
   "source": [
    "The algorithm selects the right anchors, so it works for the linear kernel"
   ]
  },
  {
   "cell_type": "code",
   "execution_count": null,
   "metadata": {},
   "outputs": [
    {
     "data": {
      "image/png": "[encoded data removed]",
      "text/plain": [
       "<Figure size 1500x500 with 1 Axes>"
      ]
     },
     "metadata": {},
     "output_type": "display_data"
    }
   ],
   "source": [
    "import matplotlib.pyplot as plt\n",
    "plt.figure(figsize=(15, 5))\n",
    "# bar plot of the diagonal of X\n",
    "plt.subplot(1, 2, 1)\n",
    "plt.bar(range(len(X_kernel)), np.diag(X_kernel))\n",
    "plt.title(\"Diagonal of X matrix\")\n",
    "plt.sub\n",
    "plt.show()"
   ]
  },
  {
   "cell_type": "markdown",
   "metadata": {},
   "source": [
    "Here we would expect high values in correspondence of the anchors amd zeroes elsewhere.\n",
    "Since we have 3 anchors in the position 0,1,2, it works"
   ]
  }
 ],
 "metadata": {
  "kernelspec": {
   "display_name": "Python 3",
   "language": "python",
   "name": "python3"
  },
  "language_info": {
   "codemirror_mode": {
    "name": "ipython",
    "version": 3
   },
   "file_extension": ".py",
   "mimetype": "text/x-python",
   "name": "python",
   "nbconvert_exporter": "python",
   "pygments_lexer": "ipython3",
   "version": "3.10.8"
  }
 },
 "nbformat": 4,
 "nbformat_minor": 2
}

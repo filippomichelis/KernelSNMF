{
 "cells": [
  {
   "cell_type": "code",
   "execution_count": 2,
   "metadata": {},
   "outputs": [],
   "source": [
    "import numpy as np\n",
    "\n",
    "def normalize(v):\n",
    "    ss = np.sum(v**2)\n",
    "    return v / np.sqrt(ss)\n",
    "\n",
    "def gaussian_kernel_to_dist(k, sigma):\n",
    "    return np.sqrt(-2 * sigma**2 * np.log(k))\n"
   ]
  },
  {
   "cell_type": "code",
   "execution_count": 3,
   "metadata": {},
   "outputs": [],
   "source": [
    "np.random.seed(123)\n",
    "n, r = 5, 2"
   ]
  },
  {
   "cell_type": "code",
   "execution_count": 4,
   "metadata": {},
   "outputs": [
    {
     "name": "stdout",
     "output_type": "stream",
     "text": [
      "[7.96717541e+00 8.81407950e-01 2.89987656e-03 6.03550179e-16\n",
      " 2.29337054e-17]\n",
      "[4.99739184e+00 2.59600683e-03 1.06215427e-09 5.19683653e-07\n",
      " 1.16285335e-05]\n"
     ]
    },
    {
     "data": {
      "text/plain": [
       "(array([[0.73425556, 0.        , 0.21991418, 1.44578374, 0.87697242],\n",
       "        [0.73425556, 0.76869582, 0.67900565, 0.72225367, 0.77216503],\n",
       "        [0.73425556, 0.73425556, 0.73425556, 0.73425556, 0.73425556]]),\n",
       " array([[1.        , 0.99945983, 0.99973244, 0.99949371, 0.9999782 ],\n",
       "        [0.99945983, 1.        , 0.9999436 , 0.99790974, 0.9992312 ],\n",
       "        [0.99973244, 0.9999436 , 1.        , 0.9984965 , 0.99955969],\n",
       "        [0.99949371, 0.99790974, 0.9984965 , 1.        , 0.99967402],\n",
       "        [0.9999782 , 0.9992312 , 0.99955969, 0.99967402, 1.        ]]))"
      ]
     },
     "execution_count": 4,
     "metadata": {},
     "output_type": "execute_result"
    }
   ],
   "source": [
    "while True:\n",
    "    Lambda = np.abs(np.random.normal(0, 1, (n, r)))\n",
    "    Lambda = np.apply_along_axis(normalize, 1, Lambda)\n",
    "\n",
    "    K = Lambda @ Lambda.T\n",
    "    np.fill_diagonal(K, 1)\n",
    "\n",
    "    D = np.vectorize(lambda k: gaussian_kernel_to_dist(k, 1))(K)\n",
    "\n",
    "    MTM = np.zeros((n, n))\n",
    "    for i in range(n):\n",
    "        for j in range(n):\n",
    "            MTM[i, j] = (D[0, j]**2 + D[i, 0]**2 - D[i, j]**2) / 2\n",
    "\n",
    "    eigenvalues1 = np.linalg.eigvals(K)\n",
    "    eigvals, eigvecs = np.linalg.eigh(MTM)\n",
    "    idx = np.argsort(eigvals)[::-1]\n",
    "    eigvals = eigvals[idx]\n",
    "    eigvecs = eigvecs[:, idx]\n",
    "\n",
    "    M = np.sqrt(np.diag(eigvals[:r+1])) @ eigvecs[:, :r+1].T\n",
    "    thres = np.max(np.abs(M * (M < 0)))\n",
    "\n",
    "    v = np.full((r+1,), thres)\n",
    "    M += np.outer(v, np.ones(n))\n",
    "\n",
    "    # M to K\n",
    "    K = np.zeros((n, n))\n",
    "    for i in range(n):\n",
    "        for j in range(n):\n",
    "            d2 = np.sum((M[:, i] - M[:, j])**2)\n",
    "            K[i, j] = np.exp(-d2 / 1000)\n",
    "\n",
    "    if np.linalg.eigvals(K)[r] < 1e-4:\n",
    "        break\n",
    "\n",
    "print(np.linalg.eigvals(M.T @ M))\n",
    "print(np.linalg.eigvals(K))\n",
    "M,K"
   ]
  }
 ],
 "metadata": {
  "kernelspec": {
   "display_name": "base",
   "language": "python",
   "name": "python3"
  },
  "language_info": {
   "codemirror_mode": {
    "name": "ipython",
    "version": 3
   },
   "file_extension": ".py",
   "mimetype": "text/x-python",
   "name": "python",
   "nbconvert_exporter": "python",
   "pygments_lexer": "ipython3",
   "version": "3.8.8"
  }
 },
 "nbformat": 4,
 "nbformat_minor": 2
}
